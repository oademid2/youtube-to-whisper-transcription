{
 "cells": [
  {
   "cell_type": "code",
   "execution_count": null,
   "metadata": {},
   "outputs": [],
   "source": [
    "import whisper\n",
    "from pytube import YouTube\n",
    "from transformers import pipeline\n",
    "import gradio as gr\n",
    "import os\n",
    "import re\n",
    "\n",
    "model = whisper.load_model(\"base\")\n",
    "summarizer = pipeline(\"summarization\")\n",
    "\n",
    "def get_audio(url):\n",
    "  yt = YouTube(url)\n",
    "  video = yt.streams.filter(only_audio=True).first()\n",
    "  out_file=video.download(output_path=\".\")\n",
    "  base, ext = os.path.splitext(out_file)\n",
    "  new_file = base+'.mp3'\n",
    "  os.rename(out_file, new_file)\n",
    "  a = new_file\n",
    "  return a"
   ]
  },
  {
   "cell_type": "code",
   "execution_count": null,
   "metadata": {},
   "outputs": [],
   "source": []
  }
 ],
 "metadata": {
  "kernelspec": {
   "display_name": "Python 3",
   "language": "python",
   "name": "python3"
  },
  "language_info": {
   "name": ""
  }
 },
 "nbformat": 4,
 "nbformat_minor": 4
}
