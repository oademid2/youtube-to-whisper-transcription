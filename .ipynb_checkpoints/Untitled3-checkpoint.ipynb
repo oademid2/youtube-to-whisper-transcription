{
 "cells": [
  {
   "cell_type": "code",
   "execution_count": null,
   "metadata": {},
   "outputs": [],
   "source": [
    "import requests"
   ]
  },
  {
   "cell_type": "code",
   "execution_count": null,
   "metadata": {},
   "outputs": [],
   "source": [
    "endpoint = \"https://p6856c2zn9.execute-api.us-east-2.amazonaws.com/test/create-transcript\"\n",
    "json = {\n",
    "    \"audio_url\": True,\n",
    "    \"auto_highlights\": True,\n",
    "    \"iab_categories\": True\n",
    "}\n",
    "headers = {\n",
    "    \"authorization\": \"d894d2a3c49040a49c6567373feb89e7\",\n",
    "}\n",
    "response = requests.post(endpoint, json=json,headers=headers)\n",
    "response.json()"
   ]
  },
  {
   "cell_type": "code",
   "execution_count": null,
   "metadata": {},
   "outputs": [],
   "source": [
    "import ray\n",
    "\n",
    "ray.init()\n",
    "\n",
    "# Define the functions.\n",
    "def test(a):\n",
    "    while True:\n",
    "        print(a)\n",
    "@ray.remote\n",
    "def solve1(a):\n",
    "    test(a)\n",
    "    # print(a)\n",
    "\n",
    "@ray.remote\n",
    "def solve2(b):\n",
    "    return 2\n",
    "\n",
    "# Start two tasks in the background.\n",
    "x_id = solve1.remote(0)\n",
    "y_id = solve1.remote(1)\n",
    "\n",
    "# Block until the tasks are done and get the results.\n",
    "x, y = ray.get([x_id, y_id])"
   ]
  },
  {
   "cell_type": "code",
   "execution_count": null,
   "metadata": {},
   "outputs": [],
   "source": [
    "from multiprocessing import Pool\n",
    "import defs\n",
    "pool = Pool()\n",
    "\n",
    "def solve(x):\n",
    "\n",
    "    while True:\n",
    "        print(x)\n",
    "\n",
    "result1 = pool.apply_async(defs.call, [solve,\"A\"])    # evaluate \"solve1(A)\" asynchronously\n",
    "result2 = pool.apply_async(defs.call, [solve,\"B\"])    # evaluate \"solve2(B)\" asynchronously\n",
    "answer1 = result1.get(timeout=10)\n",
    "answer2 = result2.get(timeout=10)"
   ]
  },
  {
   "cell_type": "code",
   "execution_count": null,
   "metadata": {},
   "outputs": [],
   "source": [
    "defs.call("
   ]
  }
 ],
 "metadata": {
  "kernelspec": {
   "display_name": "Python 3",
   "language": "python",
   "name": "python3"
  },
  "language_info": {
   "codemirror_mode": {
    "name": "ipython",
    "version": 3
   },
   "file_extension": ".py",
   "mimetype": "text/x-python",
   "name": "python",
   "nbconvert_exporter": "python",
   "pygments_lexer": "ipython3",
   "version": "3.7.0"
  }
 },
 "nbformat": 4,
 "nbformat_minor": 4
}
